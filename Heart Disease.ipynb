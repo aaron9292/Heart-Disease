{
 "cells": [
  {
   "cell_type": "markdown",
   "id": "prompt-flood",
   "metadata": {},
   "source": [
    "Heart Disease Prediction by Aaron Xu"
   ]
  },
  {
   "cell_type": "markdown",
   "id": "continent-desperate",
   "metadata": {},
   "source": [
    "**I. Importing Libraries**"
   ]
  },
  {
   "cell_type": "code",
   "execution_count": null,
   "id": "isolated-purchase",
   "metadata": {},
   "outputs": [],
   "source": [
    "import numpy as np\n",
    "import pandas as pd\n",
    "import matplotlib.pyplot as plt\n",
    "import seaborn as sns\n",
    "\n",
    "%matplotlib inline\n",
    "\n",
    "import os\n",
    "print(os.listdir())\n",
    "\n",
    "import warnings\n",
    "warnings.filterwarnings('ignore')"
   ]
  },
  {
   "cell_type": "markdown",
   "id": "demanding-estimate",
   "metadata": {},
   "source": [
    "**II. Looking and Understanding the dataset**"
   ]
  },
  {
   "cell_type": "code",
   "execution_count": null,
   "id": "discrete-workstation",
   "metadata": {},
   "outputs": [],
   "source": [
    "dataset = pd.read_csv(\"heart.csv\")"
   ]
  },
  {
   "cell_type": "markdown",
   "id": "bulgarian-understanding",
   "metadata": {},
   "source": [
    "Checking if the dataset is considered a 'dataframe' by pandas"
   ]
  },
  {
   "cell_type": "code",
   "execution_count": null,
   "id": "featured-railway",
   "metadata": {},
   "outputs": [],
   "source": [
    "type(dataset)"
   ]
  },
  {
   "cell_type": "markdown",
   "id": "still-packaging",
   "metadata": {},
   "source": [
    "Shape of dataset"
   ]
  },
  {
   "cell_type": "code",
   "execution_count": null,
   "id": "modular-dallas",
   "metadata": {},
   "outputs": [],
   "source": [
    "dataset.shape"
   ]
  },
  {
   "cell_type": "markdown",
   "id": "weekly-astrology",
   "metadata": {},
   "source": [
    "Printing out a sample of the dataset"
   ]
  },
  {
   "cell_type": "code",
   "execution_count": null,
   "id": "mediterranean-glossary",
   "metadata": {},
   "outputs": [],
   "source": [
    "dataset.head(5)"
   ]
  },
  {
   "cell_type": "code",
   "execution_count": null,
   "id": "stock-terminal",
   "metadata": {},
   "outputs": [],
   "source": [
    "dataset.sample(5)"
   ]
  },
  {
   "cell_type": "markdown",
   "id": "obvious-novelty",
   "metadata": {},
   "source": [
    "Description"
   ]
  },
  {
   "cell_type": "code",
   "execution_count": null,
   "id": "focused-source",
   "metadata": {},
   "outputs": [],
   "source": [
    "dataset.describe()"
   ]
  },
  {
   "cell_type": "code",
   "execution_count": null,
   "id": "covered-senate",
   "metadata": {},
   "outputs": [],
   "source": [
    "dataset.info()"
   ]
  },
  {
   "cell_type": "markdown",
   "id": "domestic-chester",
   "metadata": {},
   "source": [
    "Understanding what our data represents"
   ]
  },
  {
   "cell_type": "code",
   "execution_count": null,
   "id": "brave-reward",
   "metadata": {},
   "outputs": [],
   "source": [
    "info = [\"age\",\"1: male, 0: female\",\"chest pain type, 1: typical angina, 2: atypical angina, 3: non-anginal pain, 4: asymptomatic\",\"resting blood pressure\",\" serum cholestoral in mg/dl\",\"fasting blood sugar > 120 mg/dl\",\"resting electrocardiographic results (values 0,1,2)\",\" maximum heart rate achieved\",\"exercise induced angina\",\"oldpeak = ST depression induced by exercise relative to rest\",\"the slope of the peak exercise ST segment\",\"number of major vessels (0-3) colored by flourosopy\",\"thal: 3 = normal; 6 = fixed defect; 7 = reversable defect\"]\n",
    "\n",
    "for i in range(len(info)):\n",
    "    print(dataset.columns[i] + \":\\t\\t\\t\" + info[i])"
   ]
  },
  {
   "cell_type": "markdown",
   "id": "under-skill",
   "metadata": {},
   "source": [
    "Analysing the 'target' variable"
   ]
  },
  {
   "cell_type": "code",
   "execution_count": null,
   "id": "instrumental-exhibition",
   "metadata": {},
   "outputs": [],
   "source": [
    "dataset[\"target\"].describe()"
   ]
  },
  {
   "cell_type": "code",
   "execution_count": null,
   "id": "prerequisite-stability",
   "metadata": {},
   "outputs": [],
   "source": [
    "dataset[\"target\"].unique()"
   ]
  },
  {
   "cell_type": "markdown",
   "id": "exciting-japan",
   "metadata": {},
   "source": [
    "Because the targets are 0's and 1's this is a Classification problem"
   ]
  },
  {
   "cell_type": "markdown",
   "id": "median-navigator",
   "metadata": {},
   "source": [
    "Checking correlation between columns"
   ]
  },
  {
   "cell_type": "code",
   "execution_count": null,
   "id": "proud-fancy",
   "metadata": {},
   "outputs": [],
   "source": [
    "print(dataset.corr()[\"target\"].abs().sort_values(ascending = False))"
   ]
  },
  {
   "cell_type": "markdown",
   "id": "boxed-packing",
   "metadata": {},
   "source": [
    "**Exploratory Data Analysis (EDA)**"
   ]
  },
  {
   "cell_type": "markdown",
   "id": "western-death",
   "metadata": {},
   "source": [
    "Analysing the target variable"
   ]
  },
  {
   "cell_type": "code",
   "execution_count": null,
   "id": "communist-bible",
   "metadata": {},
   "outputs": [],
   "source": [
    "y = dataset[\"target\"]\n",
    "sns.countplot(y)\n",
    "target_temp = dataset.target.value_counts()\n",
    "print(target_temp)"
   ]
  },
  {
   "cell_type": "code",
   "execution_count": null,
   "id": "young-celebration",
   "metadata": {},
   "outputs": [],
   "source": [
    "print(\"Percentage of patience without heart problems: \" + str(round(target_temp[0] * 100/303, 2)))\n",
    "print(\"Percentage of patience with heart problems: \" + str(round(target_temp[1] * 100/303, 2)))"
   ]
  },
  {
   "cell_type": "markdown",
   "id": "sudden-swing",
   "metadata": {},
   "source": [
    "**III. Go on to analyse the other features of 'sex', 'cp', 'fbs', restecg', 'exang', 'slope', 'ca', and 'thal'"
   ]
  },
  {
   "cell_type": "code",
   "execution_count": null,
   "id": "funny-speech",
   "metadata": {},
   "outputs": [],
   "source": [
    "dataset[\"sex\"].unique()"
   ]
  },
  {
   "cell_type": "code",
   "execution_count": null,
   "id": "binary-claim",
   "metadata": {},
   "outputs": [],
   "source": [
    "sns.barplot(dataset[\"sex\"], y)"
   ]
  },
  {
   "cell_type": "code",
   "execution_count": null,
   "id": "lesbian-analyst",
   "metadata": {},
   "outputs": [],
   "source": [
    "dataset[\"cp\"].unique()"
   ]
  },
  {
   "cell_type": "code",
   "execution_count": null,
   "id": "aerial-shame",
   "metadata": {},
   "outputs": [],
   "source": [
    "sns.barplot(dataset[\"cp\"], y)"
   ]
  },
  {
   "cell_type": "code",
   "execution_count": null,
   "id": "ordinary-burton",
   "metadata": {},
   "outputs": [],
   "source": [
    "dataset[\"fbs\"].describe()"
   ]
  },
  {
   "cell_type": "code",
   "execution_count": null,
   "id": "falling-professor",
   "metadata": {},
   "outputs": [],
   "source": [
    "dataset[\"fbs\"].unique()"
   ]
  },
  {
   "cell_type": "code",
   "execution_count": null,
   "id": "chemical-maryland",
   "metadata": {},
   "outputs": [],
   "source": [
    "sns.barplot(dataset[\"fbs\"], y)"
   ]
  },
  {
   "cell_type": "code",
   "execution_count": null,
   "id": "peripheral-surgery",
   "metadata": {},
   "outputs": [],
   "source": [
    "dataset[\"restecg\"].unique()"
   ]
  },
  {
   "cell_type": "code",
   "execution_count": null,
   "id": "beautiful-savings",
   "metadata": {},
   "outputs": [],
   "source": [
    "sns.barplot(dataset[\"restecg\"], y)"
   ]
  },
  {
   "cell_type": "code",
   "execution_count": null,
   "id": "guided-firewall",
   "metadata": {},
   "outputs": [],
   "source": [
    "dataset[\"exang\"].unique()"
   ]
  },
  {
   "cell_type": "code",
   "execution_count": null,
   "id": "fossil-holiday",
   "metadata": {},
   "outputs": [],
   "source": [
    "sns.barplot(dataset[\"exang\"]), y"
   ]
  },
  {
   "cell_type": "code",
   "execution_count": null,
   "id": "religious-firmware",
   "metadata": {},
   "outputs": [],
   "source": [
    "dataset[\"slope\"].unique()"
   ]
  },
  {
   "cell_type": "code",
   "execution_count": null,
   "id": "resident-relationship",
   "metadata": {},
   "outputs": [],
   "source": [
    "sns.barplot(dataset[\"slope\"], y)"
   ]
  },
  {
   "cell_type": "code",
   "execution_count": null,
   "id": "standard-commons",
   "metadata": {},
   "outputs": [],
   "source": [
    "dataset[\"ca\"].unique()"
   ]
  },
  {
   "cell_type": "code",
   "execution_count": null,
   "id": "listed-shark",
   "metadata": {},
   "outputs": [],
   "source": [
    "sns.countplot(dataset[\"ca\"])"
   ]
  },
  {
   "cell_type": "code",
   "execution_count": null,
   "id": "dimensional-harrison",
   "metadata": {},
   "outputs": [],
   "source": [
    "sns.barplot(dataset[\"ca\"], y)"
   ]
  },
  {
   "cell_type": "code",
   "execution_count": null,
   "id": "becoming-ecology",
   "metadata": {},
   "outputs": [],
   "source": [
    "dataset[\"thal\"].unique()"
   ]
  },
  {
   "cell_type": "code",
   "execution_count": null,
   "id": "earlier-signal",
   "metadata": {},
   "outputs": [],
   "source": [
    "sns.barplot(dataset[\"thal\"], y)"
   ]
  },
  {
   "cell_type": "code",
   "execution_count": null,
   "id": "norwegian-first",
   "metadata": {},
   "outputs": [],
   "source": [
    "sns.distplot(dataset[\"thal\"])"
   ]
  },
  {
   "cell_type": "markdown",
   "id": "indie-cisco",
   "metadata": {},
   "source": [
    "**IV. Train Test Split**"
   ]
  },
  {
   "cell_type": "code",
   "execution_count": null,
   "id": "jewish-workstation",
   "metadata": {},
   "outputs": [],
   "source": [
    "from sklearn.model_selection import train_test_split\n",
    "\n",
    "predictors = dataset.drop(\"target\", axis = 1)\n",
    "target = dataset[\"target\"]\n",
    "\n",
    "X_train,X_test,Y_train,Y_test = train_test_split(predictors, target, test_size = 0.20, random_state = 0)"
   ]
  },
  {
   "cell_type": "code",
   "execution_count": null,
   "id": "royal-caribbean",
   "metadata": {},
   "outputs": [],
   "source": [
    "X_train.shape"
   ]
  },
  {
   "cell_type": "code",
   "execution_count": null,
   "id": "artificial-commons",
   "metadata": {},
   "outputs": [],
   "source": [
    "X_test.shape"
   ]
  },
  {
   "cell_type": "code",
   "execution_count": null,
   "id": "novel-constraint",
   "metadata": {},
   "outputs": [],
   "source": [
    "Y_train.shape"
   ]
  },
  {
   "cell_type": "code",
   "execution_count": null,
   "id": "binary-malaysia",
   "metadata": {},
   "outputs": [],
   "source": [
    "Y_test.shape"
   ]
  },
  {
   "cell_type": "markdown",
   "id": "seven-diana",
   "metadata": {},
   "source": [
    "**V. Model Fitting**"
   ]
  },
  {
   "cell_type": "code",
   "execution_count": null,
   "id": "photographic-handbook",
   "metadata": {},
   "outputs": [],
   "source": [
    "from sklearn.metrics import accuracy_score"
   ]
  },
  {
   "cell_type": "markdown",
   "id": "electoral-charleston",
   "metadata": {},
   "source": [
    "Logistic Regression"
   ]
  },
  {
   "cell_type": "code",
   "execution_count": null,
   "id": "published-apparatus",
   "metadata": {},
   "outputs": [],
   "source": [
    "from sklearn.linear_model import LogisticRegression\n",
    "lr = LogisticRegression()\n",
    "lr.fit(X_train, Y_train)\n",
    "Y_pred_lr = lr.predict(X_test)"
   ]
  },
  {
   "cell_type": "code",
   "execution_count": null,
   "id": "polar-relief",
   "metadata": {},
   "outputs": [],
   "source": [
    "Y_pred_lr.shape"
   ]
  },
  {
   "cell_type": "code",
   "execution_count": null,
   "id": "resident-separate",
   "metadata": {},
   "outputs": [],
   "source": [
    "score_lr = round(accuracy_score(Y_pred_lr, Y_test) * 100, 2)\n",
    "print(\"The accuracy score achieved using Logistic Regression is: \" + str(score_lr) + \" %\")"
   ]
  },
  {
   "cell_type": "markdown",
   "id": "everyday-orange",
   "metadata": {},
   "source": [
    "Naive Bayes"
   ]
  },
  {
   "cell_type": "code",
   "execution_count": null,
   "id": "wrong-incident",
   "metadata": {},
   "outputs": [],
   "source": [
    "from sklearn.naive_bayes import GaussianNB\n",
    "nb = GaussianNB()\n",
    "nb.fit(X_train, Y_train)\n",
    "Y_pred_nb = nb.predict(X_test)"
   ]
  },
  {
   "cell_type": "code",
   "execution_count": null,
   "id": "caring-fraud",
   "metadata": {},
   "outputs": [],
   "source": [
    "Y_pred_nb.shape"
   ]
  },
  {
   "cell_type": "code",
   "execution_count": null,
   "id": "emotional-flour",
   "metadata": {},
   "outputs": [],
   "source": [
    "score_nb = round(accuracy_score(Y_pred_nb, Y_test) * 100, 2)\n",
    "print(\"The accuracy score achieved using Naive Bayes is \" + str(score_nb) + \" %\")"
   ]
  },
  {
   "cell_type": "markdown",
   "id": "adolescent-helena",
   "metadata": {},
   "source": [
    "SVM"
   ]
  },
  {
   "cell_type": "code",
   "execution_count": null,
   "id": "emerging-orchestra",
   "metadata": {},
   "outputs": [],
   "source": [
    "from sklearn import svm\n",
    "sv = svm.SVC(kernel = 'linear')\n",
    "sv.fit(X_train, Y_train)\n",
    "Y_pred_svm = sv.predict(X_test)"
   ]
  },
  {
   "cell_type": "code",
   "execution_count": null,
   "id": "cutting-index",
   "metadata": {},
   "outputs": [],
   "source": [
    "Y_pred_svm.shape"
   ]
  },
  {
   "cell_type": "code",
   "execution_count": null,
   "id": "heavy-march",
   "metadata": {},
   "outputs": [],
   "source": [
    "score_svm = round(accuracy_score(Y_pred_svm, Y_test) * 100, 2)\n",
    "print(\"The accuracy score achieved using Linear SVM is: \" + str(score_svm) + \" %\")"
   ]
  },
  {
   "cell_type": "code",
   "execution_count": null,
   "id": "mysterious-temple",
   "metadata": {},
   "outputs": [],
   "source": [
    "from sklearn.neighbors import KNeighborsClassifier\n",
    "knn = KNeighborsClassifier(n_neighbors = 7)\n",
    "knn.fit(X_train, Y_train)\n",
    "Y_pred_knn = knn.predict(X_test)"
   ]
  },
  {
   "cell_type": "code",
   "execution_count": null,
   "id": "satisfied-equipment",
   "metadata": {},
   "outputs": [],
   "source": [
    "Y_pred_knn.shape"
   ]
  },
  {
   "cell_type": "code",
   "execution_count": null,
   "id": "behind-finder",
   "metadata": {},
   "outputs": [],
   "source": [
    "score_knn = round(accuracy_score(Y_pred_knn, Y_test) * 100, 2)\n",
    "print(\"The accuracy score achieved using KNN is: \" + str(score_knn) + \" %\")"
   ]
  },
  {
   "cell_type": "markdown",
   "id": "technological-wheat",
   "metadata": {},
   "source": [
    "Decision Tree"
   ]
  },
  {
   "cell_type": "code",
   "execution_count": null,
   "id": "faced-bobby",
   "metadata": {},
   "outputs": [],
   "source": [
    "from sklearn.tree import DecisionTreeClassifier\n",
    "max_accuracy = 0\n",
    "\n",
    "for x in range(200):\n",
    "    dt = DecisionTreeClassifier(random_state = x)\n",
    "    dt.fit(X_train, Y_train)\n",
    "    Y_pred_dt = dt.predict(X_test)\n",
    "    current_accuracy = round(accuracy_score(Y_pred_dt, Y_test) * 100, 2)\n",
    "    if(current_accuracy > max_accuracy):\n",
    "        max_accuracy = current_accuracy\n",
    "        best_x = x\n",
    "\n",
    "dt = DecisionTreeClassifier(random_state = best_x)\n",
    "dt.fit(X_train, Y_train)\n",
    "Y_pred_dt = dt.predict(X_test)"
   ]
  },
  {
   "cell_type": "code",
   "execution_count": null,
   "id": "finished-register",
   "metadata": {},
   "outputs": [],
   "source": [
    "print(Y_pred_dt.shape)"
   ]
  },
  {
   "cell_type": "code",
   "execution_count": null,
   "id": "sapphire-reunion",
   "metadata": {},
   "outputs": [],
   "source": [
    "score_dt = round(accuracy_score(Y_pred_dt, Y_test) * 100, 2)\n",
    "print(\"The accuracy score achieved using Decision Tree is: \" + str(score_dt) + \" %\")"
   ]
  },
  {
   "cell_type": "markdown",
   "id": "disabled-memory",
   "metadata": {},
   "source": [
    "Random Forest"
   ]
  },
  {
   "cell_type": "code",
   "execution_count": null,
   "id": "light-couple",
   "metadata": {},
   "outputs": [],
   "source": [
    "from sklearn.ensemble import RandomForstClassifier\n",
    "max_accuracy = 0\n",
    "\n",
    "for x in range(2000):\n",
    "    rf = RandomForestClassifier(random_state = x)\n",
    "    rf.fit(X_train, Y_train)\n",
    "    Y_pred_rf = rf.predict(X_test)\n",
    "    current_accuracy = round(accuracy_score(Y_pred_rf, Y_test) * 100, 2)\n",
    "    if(current_accuracy > max_accuracy):\n",
    "        max_accuracy = current_accuracy\n",
    "        best_x = x\n",
    "\n",
    "rf = RandomForestClassifier(random_state = best_x)\n",
    "rf.fit(X_train, Y_train)\n",
    "Y_pred_rf = rf.predict(X_test)"
   ]
  },
  {
   "cell_type": "code",
   "execution_count": null,
   "id": "cardiovascular-uncle",
   "metadata": {},
   "outputs": [],
   "source": [
    "Y_pred_rf.shape"
   ]
  },
  {
   "cell_type": "code",
   "execution_count": null,
   "id": "choice-pendant",
   "metadata": {},
   "outputs": [],
   "source": [
    "score_rf = round(accuracy_score(Y_pred_rf, Y_test) * 100, 2)\n",
    "print(\"The accuracy score achieved using Random Forest is: \" + str(score_rf) + \" %\")"
   ]
  },
  {
   "cell_type": "markdown",
   "id": "mathematical-filling",
   "metadata": {},
   "source": [
    "XGBoost"
   ]
  },
  {
   "cell_type": "code",
   "execution_count": null,
   "id": "rough-interim",
   "metadata": {},
   "outputs": [],
   "source": [
    "import xgboost as xgb\n",
    "\n",
    "xgb_model = xgb.XGBClassifier(objective = \"binary:logistic\", random_state = 42)\n",
    "xgb_model.fit(X_train, Y_train)\n",
    "\n",
    "Y_pred_xgb = xgb_model.predict(X_test)"
   ]
  },
  {
   "cell_type": "code",
   "execution_count": null,
   "id": "concrete-olympus",
   "metadata": {},
   "outputs": [],
   "source": [
    "Y_pred_xgb.shape"
   ]
  },
  {
   "cell_type": "code",
   "execution_count": null,
   "id": "christian-ratio",
   "metadata": {},
   "outputs": [],
   "source": [
    "score_xgb = round(accuracy_score(Y_pred_xgb, Y_test) * 100, 2)\n",
    "print(\"The accuracy score achieved using XGBoost is: \" + str(score_xgb) + \" %\")"
   ]
  },
  {
   "cell_type": "markdown",
   "id": "published-seattle",
   "metadata": {},
   "source": [
    "Neural Network"
   ]
  },
  {
   "cell_type": "code",
   "execution_count": null,
   "id": "baking-theater",
   "metadata": {},
   "outputs": [],
   "source": [
    "from keras.models import Sequential\n",
    "from keras.layers import Dense"
   ]
  },
  {
   "cell_type": "code",
   "execution_count": null,
   "id": "surgical-place",
   "metadata": {},
   "outputs": [],
   "source": [
    "model = Sequential()\n",
    "model.add(Dense(11, activation = 'relu', input_dim = 13))\n",
    "model.add(Dense(1, activation = 'sigmoid'))\n",
    "model.compile(loss = 'binary_crossentropy', optimizer = 'adam', metrics = ['accuracy'])"
   ]
  },
  {
   "cell_type": "code",
   "execution_count": null,
   "id": "thorough-method",
   "metadata": {},
   "outputs": [],
   "source": [
    "model.fit(X_train, Y_train, epochs = 300)"
   ]
  },
  {
   "cell_type": "code",
   "execution_count": null,
   "id": "discrete-journalism",
   "metadata": {},
   "outputs": [],
   "source": [
    "Y_pred_nn = model.predict(X_test)"
   ]
  },
  {
   "cell_type": "code",
   "execution_count": null,
   "id": "liquid-dance",
   "metadata": {},
   "outputs": [],
   "source": [
    "Y_pred_nn.shape"
   ]
  },
  {
   "cell_type": "code",
   "execution_count": null,
   "id": "sound-performance",
   "metadata": {},
   "outputs": [],
   "source": [
    "rounded = [round(x[0]) for x in Y_pred_nn]\n",
    "Y_pred_nn = rounded"
   ]
  },
  {
   "cell_type": "code",
   "execution_count": null,
   "id": "communist-tampa",
   "metadata": {},
   "outputs": [],
   "source": [
    "score_nn = round(accuracy_score(Y_pred_nn, Y_test) * 100, 2)\n",
    "print(\"The accuracy score achieved using Neural Network is: \" + str(score_nn) + \" %\")"
   ]
  },
  {
   "cell_type": "markdown",
   "id": "altered-skating",
   "metadata": {},
   "source": [
    "**VI. Output of Accuracy Scores**"
   ]
  },
  {
   "cell_type": "code",
   "execution_count": null,
   "id": "polish-mainstream",
   "metadata": {},
   "outputs": [],
   "source": [
    "scores = [score_lr, score_nb, score_svm, score_knn, score_dt, score_rf, score_xgb, score_nn]\n",
    "algorithms = [\"Logistic Regression\", \"Naive Bayes\", \"Support Vector Machine\", \"K-Nearest Neighbors\", \"Decision Tree\", \"Random Forest\", \"XGBoost\", \"Neural Network\"]    \n",
    "\n",
    "for i in range(len(algorithms)):\n",
    "    print(\"The accuracy score achieved using \" + algorithms[i] + \" is: \" + str(scores[i]) + \" %\")"
   ]
  },
  {
   "cell_type": "code",
   "execution_count": null,
   "id": "seeing-egypt",
   "metadata": {},
   "outputs": [],
   "source": [
    "sns.set(rc = {'figure.figsize':(15, 8)})\n",
    "plt.xlabel(\"Algorithms\")\n",
    "plt.ylabel(\"Accuracy score\")\n",
    "sns.barplot(algorithms, scores)"
   ]
  }
 ],
 "metadata": {
  "kernelspec": {
   "display_name": "Python 3",
   "language": "python",
   "name": "python3"
  },
  "language_info": {
   "codemirror_mode": {
    "name": "ipython",
    "version": 3
   },
   "file_extension": ".py",
   "mimetype": "text/x-python",
   "name": "python",
   "nbconvert_exporter": "python",
   "pygments_lexer": "ipython3",
   "version": "3.8.7"
  }
 },
 "nbformat": 4,
 "nbformat_minor": 5
}
